{
 "cells": [
  {
   "cell_type": "code",
   "execution_count": 1,
   "metadata": {},
   "outputs": [
    {
     "name": "stderr",
     "output_type": "stream",
     "text": [
      "WARNING:torch_tensorrt.dynamo.conversion.aten_ops_converters:Unable to import quantization op. Please install modelopt library (https://github.com/NVIDIA/TensorRT-Model-Optimizer?tab=readme-ov-file#installation) to add support for compiling quantized models\n"
     ]
    },
    {
     "name": "stdout",
     "output_type": "stream",
     "text": [
      "USING DEVICE: cuda\n"
     ]
    }
   ],
   "source": [
    "import os\n",
    "import torch\n",
    "import torch_tensorrt\n",
    "import torch.nn as nn\n",
    "import torch.optim as optim\n",
    "from dataset.video_dataset import VideoDataset\n",
    "from models.conv_autoencoder import ConvAutoencoder\n",
    "from models.conv_shifter import ConvShifter\n",
    "from models.u_net import UNetAutoencoder\n",
    "from models.FSRCNN import FSRCNN\n",
    "from torchvision.transforms import ToTensor, Resize, Normalize\n",
    "import matplotlib.pyplot as plt\n",
    "import time\n",
    "from torch.cuda.amp import autocast\n",
    "\n",
    "device = torch.device('cuda' if torch.cuda.is_available() else 'cpu')\n",
    "\n",
    "print(f'USING DEVICE: {device}')"
   ]
  },
  {
   "cell_type": "code",
   "execution_count": 2,
   "metadata": {},
   "outputs": [],
   "source": [
    "START_SEC = 620\n",
    "NAME = 'unet'\n",
    "MODEL_ITER = 44_734\n",
    "MODEL_DIR = os.path.expanduser('~/Desktop/Image Shifter/vision_progress')\n",
    "SAMPLE_VIDEO_PATH = os.path.expanduser('~/Desktop/Image Shifter/dataset/video1.mp4')"
   ]
  },
  {
   "cell_type": "code",
   "execution_count": 3,
   "metadata": {},
   "outputs": [
    {
     "name": "stdout",
     "output_type": "stream",
     "text": [
      "Extracted 3 frames from video /home/lsw/Desktop/Image Shifter/dataset/video1.mp4 between 620s and 620.0666666666667s\n"
     ]
    },
    {
     "name": "stderr",
     "output_type": "stream",
     "text": [
      "WARNING:py.warnings:/home/lsw/Desktop/Image Shifter/models/u_net.py:71: FutureWarning: You are using `torch.load` with `weights_only=False` (the current default value), which uses the default pickle module implicitly. It is possible to construct malicious pickle data which will execute arbitrary code during unpickling (See https://github.com/pytorch/pytorch/blob/main/SECURITY.md#untrusted-models for more details). In a future release, the default value for `weights_only` will be flipped to `True`. This limits the functions that could be executed during unpickling. Arbitrary objects will no longer be allowed to be loaded via this mode unless they are explicitly allowlisted by the user via `torch.serialization.add_safe_globals`. We recommend you start setting `weights_only=True` for any use case where you don't have full control of the loaded file. Please open an issue on GitHub for any issues related to this experimental feature.\n",
      "  self.load_state_dict(torch.load(model_path))\n",
      "\n"
     ]
    },
    {
     "name": "stdout",
     "output_type": "stream",
     "text": [
      "Loaded model state dict from iteration 44734 from /home/lsw/Desktop/Image Shifter/vision_progress/unet_model_44734.pth\n"
     ]
    }
   ],
   "source": [
    "video_dataset = VideoDataset(video_path=SAMPLE_VIDEO_PATH,\n",
    "                             batch_len_sec=2/30,\n",
    "                             start_sec=START_SEC,\n",
    "                             device=device,\n",
    "                            # transform=torch.nn.Sequential(\n",
    "                                # Resize((img_size)),  # Resize frames to the target size\n",
    "                                # Normalize((0.5,), (0.5,), inplace=True)  # Normalize to [-1, 1] range\n",
    "                            # )\n",
    "                            )\n",
    "\n",
    "model = UNetAutoencoder(name=NAME, model_dir=MODEL_DIR).to(device)\n",
    "\n",
    "model.load(MODEL_ITER)\n",
    "# model.quantize()\n",
    "model.eval()  # Set model to evaluation mode\n",
    "\n",
    "model = torch.compile(model, backend='tensorrt')"
   ]
  },
  {
   "cell_type": "code",
   "execution_count": 4,
   "metadata": {},
   "outputs": [
    {
     "name": "stderr",
     "output_type": "stream",
     "text": [
      "INFO:torch_tensorrt.dynamo.utils:Using Default Torch-TRT Runtime (as requested by user)\n",
      "INFO:torch_tensorrt.dynamo.utils:Device not specified, using Torch default current device - cuda:0. If this is incorrect, please specify an input device, via the device keyword.\n",
      "INFO:torch_tensorrt.dynamo.utils:Compilation Settings: CompilationSettings(enabled_precisions={<dtype.f32: 7>}, debug=False, workspace_size=0, min_block_size=5, torch_executed_ops=set(), pass_through_build_failures=False, max_aux_streams=None, version_compatible=False, optimization_level=None, use_python_runtime=False, truncate_double=False, use_fast_partitioner=True, enable_experimental_decompositions=False, device=Device(type=DeviceType.GPU, gpu_id=0), require_full_compilation=False, disable_tf32=False, assume_dynamic_shape_support=False, sparse_weights=False, refit=False, engine_capability=<EngineCapability.STANDARD: 1>, num_avg_timing_iters=1, dla_sram_size=1048576, dla_local_dram_size=1073741824, dla_global_dram_size=536870912, dryrun=False, hardware_compatible=False, timing_cache_path='/tmp/timing_cache.bin')\n",
      "\n",
      "WARNING:torch_tensorrt.dynamo._compiler:Node _param_constant0 of op type get_attr does not have metadata. This could sometimes lead to undefined behavior.\n",
      "WARNING:torch_tensorrt.dynamo._compiler:Some nodes do not have metadata (shape and dtype information). This could lead to problems sometimes if the graph has PyTorch and TensorRT segments.\n",
      "INFO:torch_tensorrt.dynamo._compiler:Partitioning the graph via the fast partitioner\n",
      "INFO:torch_tensorrt [TensorRT Conversion Context]:[MemUsageChange] Init CUDA: CPU +2, GPU +0, now: CPU 467, GPU 1769 (MiB)\n",
      "INFO:torch_tensorrt [TensorRT Conversion Context]:[MemUsageChange] Init builder kernel library: CPU +1632, GPU +292, now: CPU 2246, GPU 2061 (MiB)\n",
      "INFO:torch_tensorrt.dynamo.conversion._TRTInterpreter:TRT INetwork construction elapsed time: 0:00:00.007938\n",
      "INFO:torch_tensorrt [TensorRT Conversion Context]:Global timing cache in use. Profiling results in this builder pass will be stored.\n"
     ]
    }
   ],
   "source": [
    "samples = video_dataset.frames[:2].permute(0, 3, 1, 2)  # Grab first 2 Elements and change from [1, H, W, C] to [1, C, H, W]\n",
    "\n",
    "for i, sample in enumerate(samples): # tensorRT compiles on first run\n",
    "    # Perform inference\n",
    "    with torch.no_grad():\n",
    "        samples = sample.unsqueeze(0)\n",
    "        start_time = time.time()  # Record the start time\n",
    "        reconstructed_frames = model(samples).to(device)  # Perform inference\n",
    "        elapsed_time = (time.time() - start_time) * 1000  # Calculate the elapsed time\n",
    "\n",
    "        print(f'{i} MODEL EXECUTION TIME: {elapsed_time}ms')\n",
    "\n",
    "    # Remove batch dimension and permute to [H, W, C]\n",
    "    sample_frame = samples[0].permute(1, 2, 0).cpu()\n",
    "    reconstructed_frame = reconstructed_frames[0].permute(1, 2, 0).cpu()\n",
    "\n",
    "# Plot the original and reconstructed frames\n",
    "plt.figure(figsize=(50, 14))\n",
    "\n",
    "plt.subplot(1, 2, 1)\n",
    "plt.title(\"Original Frame\")\n",
    "plt.imshow(sample_frame)\n",
    "plt.axis('off')\n",
    "\n",
    "plt.subplot(1, 2, 2)\n",
    "plt.title(\"Reconstructed Frame\")\n",
    "plt.imshow(reconstructed_frame)\n",
    "plt.axis('off')\n",
    "\n",
    "plt.savefig(f'./results/{NAME}_{MODEL_ITER}.png', bbox_inches='tight', pad_inches=0.1)\n",
    "\n",
    "plt.show()"
   ]
  },
  {
   "cell_type": "code",
   "execution_count": null,
   "metadata": {},
   "outputs": [],
   "source": [
    "# import matplotlib.pyplot as plt\n",
    "\n",
    "# def visualize_kernels(model, layer_index):\n",
    "#     # Extract the weights of the convolutional layer\n",
    "#     layer = model.encoder[layer_index]\n",
    "#     if isinstance(layer, nn.Conv2d):\n",
    "#         kernels = layer.weight.data.cpu().numpy()\n",
    "#     else:\n",
    "#         raise ValueError(f\"Layer at index {layer_index} is not a Conv2d layer\")\n",
    "\n",
    "#     # Get the number of kernels (filters) and channels\n",
    "#     num_filters = kernels.shape[0]\n",
    "#     num_channels = kernels.shape[1]\n",
    "\n",
    "#     # Plotting the kernels\n",
    "#     fig, axes = plt.subplots(num_filters, num_channels, figsize=(num_channels, num_filters))\n",
    "#     fig.subplots_adjust(hspace=0.1, wspace=0.1)\n",
    "\n",
    "#     for i in range(num_filters):\n",
    "#         for j in range(num_channels):\n",
    "#             ax = axes[i, j]\n",
    "#             kernel = kernels[i, j, :, :]\n",
    "#             ax.imshow(kernel, cmap='gray')\n",
    "#             ax.axis('off')\n",
    "\n",
    "#     plt.show()            \n",
    "\n",
    "# # Example: Visualize the kernels from the first convolutional layer in the encoder\n",
    "# layer_index = 2  # Index of the Conv2d layer in the encoder\n",
    "# visualize_kernels(model, layer_index)"
   ]
  }
 ],
 "metadata": {
  "kernelspec": {
   "display_name": "vision",
   "language": "python",
   "name": "python3"
  },
  "language_info": {
   "codemirror_mode": {
    "name": "ipython",
    "version": 3
   },
   "file_extension": ".py",
   "mimetype": "text/x-python",
   "name": "python",
   "nbconvert_exporter": "python",
   "pygments_lexer": "ipython3",
   "version": "3.11.8"
  }
 },
 "nbformat": 4,
 "nbformat_minor": 2
}
